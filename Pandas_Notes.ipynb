{
  "nbformat": 4,
  "nbformat_minor": 0,
  "metadata": {
    "colab": {
      "name": "Pandas Notes",
      "provenance": [],
      "collapsed_sections": [],
      "authorship_tag": "ABX9TyO8itAunVQbMm0YZk2mkawB",
      "include_colab_link": true
    },
    "kernelspec": {
      "name": "python3",
      "display_name": "Python 3"
    }
  },
  "cells": [
    {
      "cell_type": "markdown",
      "metadata": {
        "id": "view-in-github",
        "colab_type": "text"
      },
      "source": [
        "<a href=\"https://colab.research.google.com/github/atharvajpatel/AI-Hackathon-Ignition/blob/master/Pandas_Notes.ipynb\" target=\"_parent\"><img src=\"https://colab.research.google.com/assets/colab-badge.svg\" alt=\"Open In Colab\"/></a>"
      ]
    },
    {
      "cell_type": "code",
      "metadata": {
        "id": "9w2U62WT_MI3",
        "colab_type": "code",
        "colab": {}
      },
      "source": [
        "#Pandas > Excel as it can work with more data better\n",
        "\n",
        "#As not a local text editor, essential for some packages to be imported to read csv\n",
        "import pandas as pd\n",
        "from google.colab import files\n",
        "uploaded = files.upload()\n",
        "import io\n",
        "\n",
        "#Loading Data into Pandas\n",
        "df = pd.read_csv(io.BytesIO(uploaded['pokemon_data.csv'])) #Puts all the data in one variable\n",
        "\n",
        "print(df) #Prints all the data\n",
        "df.head(3) #Would print only the first 3 rows (default is 5)\n",
        "df.tail(3) #Would do the same thing only last 3 rows\n",
        "\n",
        "#Will only display last line of data, so make sure you have only 1 display per box when actually writing code"
      ],
      "execution_count": null,
      "outputs": []
    },
    {
      "cell_type": "code",
      "metadata": {
        "id": "mxwb986eBm4-",
        "colab_type": "code",
        "colab": {}
      },
      "source": [
        "#Reading data\n",
        "\n",
        "#Read specific column\n",
        "df['Name'] #Reads all the values in the \"Name\" column\n",
        "#Can also add range by adding an array split \"[0:5]\" after the column Name\n",
        "#Can also get more than one columnm by making a 2D list to pass mutiple columns\n",
        "\n",
        "#Read rows\n",
        "df.iloc[1:4] #Reads specific rows (very 1st row is row 0). Can add indexing to add multiple rows like shown in this example\n",
        "df.iloc[2,1] #Reads 2nd row, 1st element of the row. Can also use indexing [:] to get multiple rows values.\n",
        "\n",
        "#For Loop for iterating through information\n",
        "for index, rows in df.iterrows():\n",
        "  print(' ')\n",
        "    #Any code. print(index, row) prints everything\n",
        "# Useful to do some function for every single element in the data\n",
        "\n",
        "#Getting specific rows\n",
        "df.loc[df['Type 1'] == \"Fire\"]\n",
        "#Will get rows which have Fire as Type 1. You can use this to get only certain rows based on a single factor\n"
      ],
      "execution_count": null,
      "outputs": []
    },
    {
      "cell_type": "code",
      "metadata": {
        "id": "_ARR2TXqBwr_",
        "colab_type": "code",
        "colab": {}
      },
      "source": [
        "#Sorting/Describing data\n",
        "\n",
        "#Find values of all numerical columns\n",
        "df.describe()\n",
        "#Will print out count, mean, std, quartile, etc.. for each numerical column\n",
        "\n",
        "#Sorting\n",
        "df.sort_values('Attack')\n",
        "#Will sort by specific column, in this case name\n",
        "#Second parameter called ascending which will allow you to go least to greatest or reverse if = false\n",
        "#Again can pass a list to sort by multiple criteria like Name and Type. For numerical, it goes in numerical order, for alphabetical, it goes in alphabetical order to sort\n",
        "\n",
        "#Adding columns\n",
        "df['Total'] = df['HP'] + df['Attack'] + df['Defense'] + df['Sp. Atk'] + df['Sp. Def'] + df['Speed']\n",
        "#Creats new total column which adds each row's HP, attack, def, etc into 1 category\n",
        "#Easier way\n",
        "df['Total'] = df.iloc[: , 4:10].sum(axis = 1)\n",
        "#Makes Total in all rows and adds columns 4-9 with the.sum method. Axis adds horizontally\n",
        "\n",
        "#Delete columns\n",
        "df = df.drop(columns = ['Total'])\n",
        "#Reset value of df to drop the specified column\n",
        "\n",
        "#Saving data\n",
        "df.to_csv('file.csv')\n",
        "#Will save new file called \"file\" with data of df as a new CSV in the same folder\n",
        "\n",
        "#Filtering data\n",
        "df.reset_index(drop=True, inplace = True)\n",
        "#This is useful to reindex if you are looking at only specific amounts of data so the index goes 1-end to 1, 34, 36, 75, etc.. in an unorthodox order\n",
        "\n",
        "#Dropping by Name or textual patterns\n",
        "df.loc[df['Name'].str.contains('Mega')]\n",
        "#Will filter by all mega pokemon, as we have specified we want those ones only\n",
        "# '~' is not or opposite. You would think '!' but its not"
      ],
      "execution_count": null,
      "outputs": []
    },
    {
      "cell_type": "code",
      "metadata": {
        "id": "cf_bVfALB1hF",
        "colab_type": "code",
        "colab": {}
      },
      "source": [
        "#conditional changes\n",
        "df.loc[df['Type 1'] == 'Fire', 'Type 1'] == 'Flame'\n",
        "#Will change all occurences of fire type to flame type. Useful to change certaim sort_values\n",
        "#df.loc[condition, code]\n",
        "\n",
        "#Advanced stats\n",
        "df.groupby(['Type 1']).mean()\n",
        "#Will get the mean of all stats for each type (bug, fire, etc)\n",
        "# have mean, sum, count methods"
      ],
      "execution_count": null,
      "outputs": []
    }
  ]
}