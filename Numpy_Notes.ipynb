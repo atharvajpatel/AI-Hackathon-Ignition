{
  "nbformat": 4,
  "nbformat_minor": 0,
  "metadata": {
    "colab": {
      "name": "Numpy Notes",
      "provenance": [],
      "collapsed_sections": [],
      "authorship_tag": "ABX9TyOl4MeFLU6Nhd2hm3QnmN9u",
      "include_colab_link": true
    },
    "kernelspec": {
      "name": "python3",
      "display_name": "Python 3"
    }
  },
  "cells": [
    {
      "cell_type": "markdown",
      "metadata": {
        "id": "view-in-github",
        "colab_type": "text"
      },
      "source": [
        "<a href=\"https://colab.research.google.com/github/atharvajpatel/AI-Hackathon-Ignition/blob/master/Numpy_Notes.ipynb\" target=\"_parent\"><img src=\"https://colab.research.google.com/assets/colab-badge.svg\" alt=\"Open In Colab\"/></a>"
      ]
    },
    {
      "cell_type": "code",
      "metadata": {
        "id": "jM1ewskvDkF0",
        "colab_type": "code",
        "colab": {}
      },
      "source": [
        "import numpy as np\n",
        "\n",
        "#Define the array\n",
        "a = np.array([1,2,3,4,5])\n",
        "b = np.array([[1,2,3],[4,5,6]])\n",
        "a1 = np.array([1,2,3,4,5], dtype = \"int16\")\n",
        "\n",
        "#Get methods\n",
        "\n",
        "#Get dimension\n",
        "# .ndim gets dimensions\n",
        "print(a.ndim) # Output of 1\n",
        "print(b.ndim) # Output of 2\n",
        "\n",
        "#Get shape\n",
        "# .shape checks for rows and columns\n",
        "print(a.shape) # Output of (5,)\n",
        "print(b.shape) # Output of (2,3)\n",
        "\n",
        "#Get type\n",
        "# .dtype checks dataype\n",
        "print(a.dtype) # Output of dtype('int32')\n",
        "print(b.dtype) # Output of dtype('int32')\n",
        "\n",
        "#We can override the bit size as shown in the above\n",
        "print(a1.dtype) # Output of dtype('int16')\n",
        "\n",
        "# .itemsize will return the amount of bytes.\n",
        "print(a.itemsize) # Output of 4 bytes\n",
        "print(a1.itemsize) # Output of 2 bytes as it is 18\n",
        "\n",
        "# .size is number of elements in the list\n",
        "print(a.size) # Output of 5\n",
        "print(b.size) # Output of 6\n",
        "\n",
        "# .nbytes is number of bytes in a numpy\n",
        "print(a.nbytes) # Output of 5 (elements)*4 (bytes) = 20\n",
        "print(a1.nbytes) # Output of 5 (elements)* 2 (bytes) = 10\n",
        "\n",
        "#Important rule\n",
        "\n",
        "#Numpy is pass by reference not by value\n",
        "#For example:\n",
        "d = np.array([1,2,3])\n",
        "e = d\n",
        "e[0] = 100\n",
        "# Now both d and e have value of 100 at the 1st element not just e\n",
        "# To avoid it do:\n",
        "e = d.copy()\n",
        "# Will make sure when e's value is changed, d is not"
      ],
      "execution_count": null,
      "outputs": []
    },
    {
      "cell_type": "code",
      "metadata": {
        "id": "DNAcaWE3D90X",
        "colab_type": "code",
        "colab": {}
      },
      "source": [
        "#Indexing\n",
        "\n",
        "#Indexing and accesing information\n",
        "a = np.array([1,2,3,4,5])\n",
        "b = np.array([[1,2,3],[4,5,6]])\n",
        "a1 = np.array([1,2,3,4,5], dtype = \"int16\")\n",
        "\n",
        "#Unlike regular 2-d arrays, rather than having 2 brackets, you have a range with comma\n",
        "print(b[1, 2]) # Same a b[1][2] with output of 6\n",
        "\n",
        "#To get an entire row do this:\n",
        "print(b[0, :]) # Output of entire first row 1,2,3\n",
        "#To get entire column do this:\n",
        "print(b[:, 0]) # Output of 1 and 4\n",
        "\n",
        "# Negative indexing still applies and still has replace with variable decl\n",
        "# colon has 3 values, start:end:step\n",
        "\n",
        "# Initializing different arrays\n",
        "\n",
        "#Initializing arrays with different values\n",
        "c = np.zeros((2,3)) #Initializes lists with 2 rows and 3 columns of 0. You pass the shape in between the parameters\n",
        "c = np.ones((2,3), dtype = \"int16\") # Same as above with specified dataype\n",
        "c = np.full((2,3), 99) # creats a 2 by 3 matrix with all values of 99. Full allows 2nd paramter to be any number\n",
        "c = np.full_like(b, 4) # creates another array duplicate of b with just all values of 4\n",
        "c = np.random.rand(4,2) # creates array with shape (4,2) with random numbers from 0 to 1\n",
        "c = np.random.random_sample(b.shape) # same as above, shape is same as specified array\n",
        "c = np.random.randint(0,7, size = (3,3)) # creates array with shape (3,3) (make size shape) with random integers from 0 to 7\n",
        "c = np.identity(5) # creates matrix with shape (5,5) which is same as paramter. Has all 0's and one 1 which gets moved around\n",
        "c1 = np.repeat(c, 3) # creates c array 3 times.\n"
      ],
      "execution_count": null,
      "outputs": []
    },
    {
      "cell_type": "code",
      "metadata": {
        "id": "lL0fWc_uEIJT",
        "colab_type": "code",
        "colab": {}
      },
      "source": [
        "#Math with Numpy\n",
        "\n",
        "# If you add a value to an array like:\n",
        "a + 1\n",
        "# It would add 1 to all the values in array 1\n",
        "# All math operations you do would apply to all values in the array and are NOT illegal\n",
        "\n",
        "#Stats\n",
        "s = [[1,2,3,4],[3,4,5,6]]\n",
        "np.min(s) # Finds the lowest value in the matrix\n",
        "np.max(s) # Finds the highest value in the matrix\n",
        "np.sum(s) # Finds the sum of all the values in the matrix\n",
        "\n",
        "#Reshaping\n",
        "\n",
        "n = [[1,2,3,4],[5,6,7,8]]\n",
        "np.reshape(n, (4,2)) #Will change shape from 2,4 to 8,1\n",
        "#As long as you have the product of the 2 shape values = #of elements, you can reshape\n",
        "v1 = np.array([1,2,3])\n",
        "v2 = np.array([4,5,6])\n",
        "print(np.vstack([v1,v2])) # Will combine both arrays to create a matrix\n",
        "# Note: You have to have the 2 arrays have the same shape otherwise will give an error\n",
        "print(np.vstack([v1,v2])) # Will combine the arrays at the end of it not after it if both arrays are matrixes\n"
      ],
      "execution_count": null,
      "outputs": []
    },
    {
      "cell_type": "code",
      "metadata": {
        "id": "rn1iPx3yEN22",
        "colab_type": "code",
        "colab": {
          "base_uri": "https://localhost:8080/",
          "height": 253
        },
        "outputId": "3ce37998-55a3-4000-bedc-3e4c777b9ae3"
      },
      "source": [
        "#Advanced stuff\n",
        "\n",
        "#Load data (not sure actually so comment out that part before running\n",
        "fileArray = np.genfromtxt('word.txt', delimeter = '\\n')\n",
        "# This will take data from word.txt and store all its info into fileArray. It will seperate the data by whatever the delimeter is equal to (in this case, newline)\n",
        "# when printing, you can use .astype('') to cast the value to a specific dtype. Note it makes copy so you must print it the same line\n",
        "\n",
        "#Boolean Masking\n",
        "test = np.array([1,6,11,9])\n",
        "print(test > 8)\n",
        "# Will print a list of booleans based on the value of whether the condition is true or false\n",
        "print(test[test>7])\n",
        "#Will only find values in the array that fits the condition\n"
      ],
      "execution_count": null,
      "outputs": [
        {
          "output_type": "error",
          "ename": "TypeError",
          "evalue": "ignored",
          "traceback": [
            "\u001b[0;31m---------------------------------------------------------------------------\u001b[0m",
            "\u001b[0;31mTypeError\u001b[0m                                 Traceback (most recent call last)",
            "\u001b[0;32m<ipython-input-10-e7da52bb53bc>\u001b[0m in \u001b[0;36m<module>\u001b[0;34m()\u001b[0m\n\u001b[1;32m      2\u001b[0m \u001b[0;34m\u001b[0m\u001b[0m\n\u001b[1;32m      3\u001b[0m \u001b[0;31m#Load data (not sure actually so comment out that part before running\u001b[0m\u001b[0;34m\u001b[0m\u001b[0;34m\u001b[0m\u001b[0;34m\u001b[0m\u001b[0m\n\u001b[0;32m----> 4\u001b[0;31m \u001b[0mfileArray\u001b[0m \u001b[0;34m=\u001b[0m \u001b[0mnp\u001b[0m\u001b[0;34m.\u001b[0m\u001b[0mgenfromtxt\u001b[0m\u001b[0;34m(\u001b[0m\u001b[0;34m'word.txt'\u001b[0m\u001b[0;34m,\u001b[0m \u001b[0mdelimeter\u001b[0m \u001b[0;34m=\u001b[0m \u001b[0;34m'\\n'\u001b[0m\u001b[0;34m)\u001b[0m\u001b[0;34m\u001b[0m\u001b[0;34m\u001b[0m\u001b[0m\n\u001b[0m\u001b[1;32m      5\u001b[0m \u001b[0;31m# This will take data from word.txt and store all its info into fileArray. It will seperate the data by whatever the delimeter is equal to (in this case, newline)\u001b[0m\u001b[0;34m\u001b[0m\u001b[0;34m\u001b[0m\u001b[0;34m\u001b[0m\u001b[0m\n\u001b[1;32m      6\u001b[0m \u001b[0;31m# when printing, you can use .astype('') to cast the value to a specific dtype. Note it makes copy so you must print it the same line\u001b[0m\u001b[0;34m\u001b[0m\u001b[0;34m\u001b[0m\u001b[0;34m\u001b[0m\u001b[0m\n",
            "\u001b[0;31mTypeError\u001b[0m: genfromtxt() got an unexpected keyword argument 'delimeter'"
          ]
        }
      ]
    }
  ]
}